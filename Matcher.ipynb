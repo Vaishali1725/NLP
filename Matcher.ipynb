{
 "cells": [
  {
   "cell_type": "markdown",
   "id": "cabe0c8c",
   "metadata": {},
   "source": [
    "# Defining Matcher Object"
   ]
  },
  {
   "cell_type": "code",
   "execution_count": 1,
   "id": "db0ddc6d",
   "metadata": {},
   "outputs": [],
   "source": [
    "import spacy\n",
    "nlp = spacy.load('en_core_web_sm')\n",
    "\n",
    "from spacy.matcher import Matcher\n",
    "m_tool = Matcher(nlp.vocab)"
   ]
  },
  {
   "cell_type": "markdown",
   "id": "5143b524",
   "metadata": {},
   "source": [
    "Definign Pattern."
   ]
  },
  {
   "cell_type": "code",
   "execution_count": 2,
   "id": "1c55da7b",
   "metadata": {},
   "outputs": [],
   "source": [
    "p1 = [{'LOWER': 'quickbrownfox'}]\n",
    "p2 = [{'LOWER': 'quick'}, {'IS_PUNCT': True}, {'LOWER': 'brown'}, {'IS_PUNCT': True}, {'LOWER': 'fox'}]\n",
    "p3 = [{'LOWER': 'quick'}, {'LOWER': 'brown'}, {'LOWER': 'fox'}]\n",
    "p4 =  [{'LOWER': 'quick'}, {'LOWER': 'brownfox'}]"
   ]
  },
  {
   "cell_type": "markdown",
   "id": "e3732d43",
   "metadata": {},
   "source": [
    "Passing pattern to matcher object. (Always pass two arguments, and the last argument should be list)"
   ]
  },
  {
   "cell_type": "code",
   "execution_count": 3,
   "id": "cb2e3ae6",
   "metadata": {},
   "outputs": [],
   "source": [
    "m_tool.add('QBF', [p1, p2, p3, p4])"
   ]
  },
  {
   "cell_type": "markdown",
   "id": "6f0dacb8",
   "metadata": {},
   "source": [
    "Pattern Matching"
   ]
  },
  {
   "cell_type": "code",
   "execution_count": 4,
   "id": "c9806630",
   "metadata": {},
   "outputs": [],
   "source": [
    "sentence = nlp(u'The quick-brown-fox jumps over the lazy dog. The quick brown fox eats well. \\\n",
    "               the quickbrownfox is dead. the dog misses the quick brownfox')"
   ]
  },
  {
   "cell_type": "code",
   "execution_count": 5,
   "id": "4be53649",
   "metadata": {},
   "outputs": [
    {
     "name": "stdout",
     "output_type": "stream",
     "text": [
      "[(12825528024649263697, 1, 6), (12825528024649263697, 13, 16), (12825528024649263697, 21, 22), (12825528024649263697, 29, 31)]\n"
     ]
    }
   ],
   "source": [
    "phrase_matches = m_tool(sentence)\n",
    "print(phrase_matches )"
   ]
  },
  {
   "cell_type": "code",
   "execution_count": 6,
   "id": "a38778d0",
   "metadata": {},
   "outputs": [
    {
     "name": "stdout",
     "output_type": "stream",
     "text": [
      "12825528024649263697 QBF 1 6 quick-brown-fox\n",
      "12825528024649263697 QBF 13 16 quick brown fox\n",
      "12825528024649263697 QBF 21 22 quickbrownfox\n",
      "12825528024649263697 QBF 29 31 quick brownfox\n"
     ]
    }
   ],
   "source": [
    "for match_id, start, end in phrase_matches:\n",
    "    string_id = nlp.vocab.strings[match_id]  \n",
    "    span = sentence[start:end]                   \n",
    "    print(match_id, string_id, start, end, span.text)"
   ]
  },
  {
   "cell_type": "markdown",
   "id": "28de23df",
   "metadata": {},
   "source": [
    "# More Matcher :"
   ]
  },
  {
   "cell_type": "code",
   "execution_count": 7,
   "id": "bb45f745",
   "metadata": {},
   "outputs": [],
   "source": [
    "m_tool.remove('QBF')"
   ]
  },
  {
   "cell_type": "markdown",
   "id": "76001342",
   "metadata": {},
   "source": [
    "Defining Pattern."
   ]
  },
  {
   "cell_type": "code",
   "execution_count": 8,
   "id": "a4daeb1b",
   "metadata": {},
   "outputs": [],
   "source": [
    "p1 = [{'LOWER': 'quick'}, {'IS_PUNCT': True, 'OP':'*'}, {'LOWER': 'brown'}, {'IS_PUNCT': True, 'OP':'*'}, {'LOWER': 'fox'}]\n",
    "m_tool.add('QBF', [p1])"
   ]
  },
  {
   "cell_type": "markdown",
   "id": "17ac8529",
   "metadata": {},
   "source": [
    "Applying Matcher to the Document."
   ]
  },
  {
   "cell_type": "code",
   "execution_count": 9,
   "id": "723cb05f",
   "metadata": {},
   "outputs": [],
   "source": [
    "sentence = nlp(u'The quick--brown--fox jumps over the  quick-brown---fox')"
   ]
  },
  {
   "cell_type": "code",
   "execution_count": 10,
   "id": "d8417ea6",
   "metadata": {},
   "outputs": [
    {
     "name": "stdout",
     "output_type": "stream",
     "text": [
      "12825528024649263697 QBF 1 6 quick--brown--fox\n",
      "12825528024649263697 QBF 10 15 quick-brown---fox\n"
     ]
    }
   ],
   "source": [
    "phrase_matches = m_tool(sentence)\n",
    "\n",
    "for match_id, start, end in phrase_matches:\n",
    "    string_id = nlp.vocab.strings[match_id]  \n",
    "    span = sentence[start:end]                   \n",
    "    print(match_id, string_id, start, end, span.text)"
   ]
  },
  {
   "cell_type": "markdown",
   "id": "33e1c349",
   "metadata": {},
   "source": [
    "# Phrase Based Matching"
   ]
  },
  {
   "cell_type": "markdown",
   "id": "3512371a",
   "metadata": {},
   "source": [
    "Parse the Wikipedia article that we will be using to perform phrase matching."
   ]
  },
  {
   "cell_type": "code",
   "execution_count": 11,
   "id": "437f13c2",
   "metadata": {},
   "outputs": [],
   "source": [
    "import bs4 as bs  \n",
    "import urllib.request  \n",
    "import re  \n",
    "import nltk"
   ]
  },
  {
   "cell_type": "code",
   "execution_count": 12,
   "id": "b102a2ce",
   "metadata": {},
   "outputs": [],
   "source": [
    "scrapped_data = urllib.request.urlopen('https://en.wikipedia.org/wiki/Artificial_intelligence')  \n",
    "article = scrapped_data .read()"
   ]
  },
  {
   "cell_type": "code",
   "execution_count": 13,
   "id": "933072ff",
   "metadata": {},
   "outputs": [],
   "source": [
    "parsed_article = bs.BeautifulSoup(article,'lxml')\n",
    "\n",
    "paragraphs = parsed_article.find_all('p')\n",
    "\n",
    "article_text = \"\""
   ]
  },
  {
   "cell_type": "code",
   "execution_count": 14,
   "id": "f7e24f4e",
   "metadata": {},
   "outputs": [],
   "source": [
    "for p in paragraphs:  \n",
    "    article_text += p.text\n",
    "    \n",
    "    \n",
    "processed_article = article_text.lower()  \n",
    "processed_article = re.sub('[^a-zA-Z]', ' ', processed_article )  \n",
    "processed_article = re.sub(r'\\s+', ' ', processed_article)"
   ]
  },
  {
   "cell_type": "markdown",
   "id": "346ad690",
   "metadata": {},
   "source": [
    "Create Phrase Matcher Object."
   ]
  },
  {
   "cell_type": "code",
   "execution_count": 15,
   "id": "bcf93b0c",
   "metadata": {},
   "outputs": [],
   "source": [
    "import spacy\n",
    "nlp = spacy.load('en_core_web_sm')\n",
    "\n",
    "\n",
    "from spacy.matcher import PhraseMatcher\n",
    "phrase_matcher = PhraseMatcher(nlp.vocab)"
   ]
  },
  {
   "cell_type": "markdown",
   "id": "4611d100",
   "metadata": {},
   "source": [
    "Create Phrase List."
   ]
  },
  {
   "cell_type": "code",
   "execution_count": 16,
   "id": "be27ab4f",
   "metadata": {},
   "outputs": [],
   "source": [
    "phrases = ['machine learning', 'robots', 'intelligent agents']\n",
    "\n",
    "patterns = [nlp(text) for text in phrases]"
   ]
  },
  {
   "cell_type": "code",
   "execution_count": 17,
   "id": "091e2474",
   "metadata": {},
   "outputs": [],
   "source": [
    "phrase_matcher.add('AI', [*patterns])"
   ]
  },
  {
   "cell_type": "raw",
   "id": "e30eda3e",
   "metadata": {},
   "source": [
    "Applying Matcher to the Document."
   ]
  },
  {
   "cell_type": "code",
   "execution_count": 18,
   "id": "6c3d9775",
   "metadata": {},
   "outputs": [],
   "source": [
    "sentence = nlp (processed_article)\n",
    "\n",
    "matched_phrases = phrase_matcher(sentence)"
   ]
  },
  {
   "cell_type": "code",
   "execution_count": 19,
   "id": "4704bc31",
   "metadata": {},
   "outputs": [
    {
     "name": "stdout",
     "output_type": "stream",
     "text": [
      "5530044837203964789 AI 30 32 intelligent agents\n",
      "5530044837203964789 AI 249 251 machine learning\n",
      "5530044837203964789 AI 1052 1054 machine learning\n",
      "5530044837203964789 AI 1526 1528 intelligent agents\n",
      "5530044837203964789 AI 1685 1687 machine learning\n",
      "5530044837203964789 AI 2199 2200 robots\n",
      "5530044837203964789 AI 2628 2630 machine learning\n",
      "5530044837203964789 AI 2670 2672 machine learning\n",
      "5530044837203964789 AI 2697 2699 machine learning\n",
      "5530044837203964789 AI 2998 2999 robots\n",
      "5530044837203964789 AI 4194 4195 robots\n",
      "5530044837203964789 AI 4389 4390 robots\n",
      "5530044837203964789 AI 5231 5232 robots\n",
      "5530044837203964789 AI 6680 6681 robots\n",
      "5530044837203964789 AI 6801 6802 robots\n",
      "5530044837203964789 AI 6845 6846 robots\n"
     ]
    }
   ],
   "source": [
    "for match_id, start, end in matched_phrases:\n",
    "    string_id = nlp.vocab.strings[match_id]  \n",
    "    span = sentence[start:end]                   \n",
    "    print(match_id, string_id, start, end, span.text)"
   ]
  },
  {
   "cell_type": "code",
   "execution_count": null,
   "id": "537f5fbd",
   "metadata": {},
   "outputs": [],
   "source": []
  }
 ],
 "metadata": {
  "kernelspec": {
   "display_name": "Python 3",
   "language": "python",
   "name": "python3"
  },
  "language_info": {
   "codemirror_mode": {
    "name": "ipython",
    "version": 3
   },
   "file_extension": ".py",
   "mimetype": "text/x-python",
   "name": "python",
   "nbconvert_exporter": "python",
   "pygments_lexer": "ipython3",
   "version": "3.8.8"
  }
 },
 "nbformat": 4,
 "nbformat_minor": 5
}
