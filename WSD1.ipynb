{
 "cells": [
  {
   "cell_type": "code",
   "execution_count": 1,
   "metadata": {
    "colab": {
     "base_uri": "https://localhost:8080/"
    },
    "id": "tnBkzMtTMD3M",
    "outputId": "b5918a7d-8c70-4265-bf35-53c71d9329a3"
   },
   "outputs": [],
   "source": [
    "import nltk\n",
    "import codecs\n",
    "from nltk.tokenize import word_tokenize\n",
    "from nltk.corpus import stopwords, wordnet\n",
    "from nltk.stem import WordNetLemmatizer, PorterStemmer"
   ]
  },
  {
   "cell_type": "code",
   "execution_count": 2,
   "metadata": {
    "id": "bSrALGZeOF9H"
   },
   "outputs": [],
   "source": [
    "def simpleFilter(sentence):\n",
    "\n",
    "    filtered_sent = []\n",
    "    lemmatizer = WordNetLemmatizer()\n",
    "    stop_words = set(stopwords.words(\"english\"))\n",
    "    words = word_tokenize(sentence)\n",
    "\n",
    "    for w in words:\n",
    "            if w not in stop_words:\n",
    "                    filtered_sent.append(lemmatizer.lemmatize(w))\n",
    "\n",
    "    return filtered_sent"
   ]
  },
  {
   "cell_type": "code",
   "execution_count": 3,
   "metadata": {
    "id": "VIEqd6VIOYLW"
   },
   "outputs": [],
   "source": [
    "def simlilarityCheck(word1, word2):\n",
    "\n",
    "\tword1 = word1 + \".n.01\"\n",
    "\tword2 = word2 + \".n.01\"\n",
    "\ttry:\n",
    "\t\tw1 = wordnet.synset(word1)\n",
    "\t\tw2 = wordnet.synset(word2)\n",
    "\n",
    "\t\treturn w1.wup_similarity(w2)\n",
    "\n",
    "\texcept:\n",
    "\t\treturn 0"
   ]
  },
  {
   "cell_type": "code",
   "execution_count": 4,
   "metadata": {
    "id": "NTzc7W1-OhsX"
   },
   "outputs": [],
   "source": [
    "def synonymsCreator(word):\n",
    "\tsynonyms = []\n",
    "\n",
    "\tfor syn in wordnet.synsets(word):\n",
    "\t\tfor i in syn.lemmas():\n",
    "\t\t\tsynonyms.append(i.name())\n",
    "\n",
    "\treturn synonyms"
   ]
  },
  {
   "cell_type": "code",
   "execution_count": 5,
   "metadata": {
    "id": "Lcgzi3VJOmvn"
   },
   "outputs": [],
   "source": [
    "# Remove Stop Words . Word Stemming . Return new tokenised list.\n",
    "def filteredSentence(sentence):\n",
    "\n",
    "\tfiltered_sent = []\n",
    "\tlemmatizer = WordNetLemmatizer()   #lemmatizes the words\n",
    "\tps = PorterStemmer()    #stemmer stems the root of the word.\n",
    "\n",
    "\tstop_words = set(stopwords.words(\"english\"))\n",
    "\twords = word_tokenize(sentence)\n",
    "\n",
    "\tfor w in words:\n",
    "        \tif w not in stop_words:\n",
    "                \tfiltered_sent.append(lemmatizer.lemmatize(ps.stem(w)))\n",
    "                \tfor i in synonymsCreator(w):\n",
    "                \t\tfiltered_sent.append(i)\n",
    "\treturn filtered_sent"
   ]
  },
  {
   "cell_type": "code",
   "execution_count": 6,
   "metadata": {
    "colab": {
     "base_uri": "https://localhost:8080/"
    },
    "id": "_OHs9Sv0OrVf",
    "outputId": "9afd8879-673b-4ba0-a767-3a007226872c"
   },
   "outputs": [
    {
     "ename": "FileNotFoundError",
     "evalue": "[Errno 2] No such file or directory: 'cricketbat.txt'",
     "output_type": "error",
     "traceback": [
      "\u001b[0;31m---------------------------------------------------------------------------\u001b[0m",
      "\u001b[0;31mFileNotFoundError\u001b[0m                         Traceback (most recent call last)",
      "\u001b[0;32m<ipython-input-6-9a74cddf93a0>\u001b[0m in \u001b[0;36m<module>\u001b[0;34m\u001b[0m\n\u001b[1;32m      1\u001b[0m \u001b[0;32mif\u001b[0m \u001b[0m__name__\u001b[0m \u001b[0;34m==\u001b[0m \u001b[0;34m'__main__'\u001b[0m\u001b[0;34m:\u001b[0m\u001b[0;34m\u001b[0m\u001b[0;34m\u001b[0m\u001b[0m\n\u001b[1;32m      2\u001b[0m \u001b[0;34m\u001b[0m\u001b[0m\n\u001b[0;32m----> 3\u001b[0;31m         \u001b[0mcricfile\u001b[0m \u001b[0;34m=\u001b[0m \u001b[0mcodecs\u001b[0m\u001b[0;34m.\u001b[0m\u001b[0mopen\u001b[0m\u001b[0;34m(\u001b[0m\u001b[0;34m\"cricketbat.txt\"\u001b[0m\u001b[0;34m,\u001b[0m \u001b[0;34m'r'\u001b[0m\u001b[0;34m,\u001b[0m \u001b[0;34m\"utf-8\"\u001b[0m\u001b[0;34m)\u001b[0m\u001b[0;34m\u001b[0m\u001b[0;34m\u001b[0m\u001b[0m\n\u001b[0m\u001b[1;32m      4\u001b[0m         \u001b[0msent2\u001b[0m \u001b[0;34m=\u001b[0m \u001b[0mcricfile\u001b[0m\u001b[0;34m.\u001b[0m\u001b[0mread\u001b[0m\u001b[0;34m(\u001b[0m\u001b[0;34m)\u001b[0m\u001b[0;34m.\u001b[0m\u001b[0mlower\u001b[0m\u001b[0;34m(\u001b[0m\u001b[0;34m)\u001b[0m\u001b[0;34m\u001b[0m\u001b[0;34m\u001b[0m\u001b[0m\n\u001b[1;32m      5\u001b[0m         \u001b[0mvampirefile\u001b[0m \u001b[0;34m=\u001b[0m \u001b[0mcodecs\u001b[0m\u001b[0;34m.\u001b[0m\u001b[0mopen\u001b[0m\u001b[0;34m(\u001b[0m\u001b[0;34m\"vampirebat.txt\"\u001b[0m\u001b[0;34m,\u001b[0m \u001b[0;34m'r'\u001b[0m\u001b[0;34m,\u001b[0m \u001b[0;34m'utf-8'\u001b[0m\u001b[0;34m)\u001b[0m\u001b[0;34m\u001b[0m\u001b[0;34m\u001b[0m\u001b[0m\n",
      "\u001b[0;32m/opt/anaconda3/lib/python3.8/codecs.py\u001b[0m in \u001b[0;36mopen\u001b[0;34m(filename, mode, encoding, errors, buffering)\u001b[0m\n\u001b[1;32m    903\u001b[0m         \u001b[0;31m# Force opening of the file in binary mode\u001b[0m\u001b[0;34m\u001b[0m\u001b[0;34m\u001b[0m\u001b[0;34m\u001b[0m\u001b[0m\n\u001b[1;32m    904\u001b[0m         \u001b[0mmode\u001b[0m \u001b[0;34m=\u001b[0m \u001b[0mmode\u001b[0m \u001b[0;34m+\u001b[0m \u001b[0;34m'b'\u001b[0m\u001b[0;34m\u001b[0m\u001b[0;34m\u001b[0m\u001b[0m\n\u001b[0;32m--> 905\u001b[0;31m     \u001b[0mfile\u001b[0m \u001b[0;34m=\u001b[0m \u001b[0mbuiltins\u001b[0m\u001b[0;34m.\u001b[0m\u001b[0mopen\u001b[0m\u001b[0;34m(\u001b[0m\u001b[0mfilename\u001b[0m\u001b[0;34m,\u001b[0m \u001b[0mmode\u001b[0m\u001b[0;34m,\u001b[0m \u001b[0mbuffering\u001b[0m\u001b[0;34m)\u001b[0m\u001b[0;34m\u001b[0m\u001b[0;34m\u001b[0m\u001b[0m\n\u001b[0m\u001b[1;32m    906\u001b[0m     \u001b[0;32mif\u001b[0m \u001b[0mencoding\u001b[0m \u001b[0;32mis\u001b[0m \u001b[0;32mNone\u001b[0m\u001b[0;34m:\u001b[0m\u001b[0;34m\u001b[0m\u001b[0;34m\u001b[0m\u001b[0m\n\u001b[1;32m    907\u001b[0m         \u001b[0;32mreturn\u001b[0m \u001b[0mfile\u001b[0m\u001b[0;34m\u001b[0m\u001b[0;34m\u001b[0m\u001b[0m\n",
      "\u001b[0;31mFileNotFoundError\u001b[0m: [Errno 2] No such file or directory: 'cricketbat.txt'"
     ]
    }
   ],
   "source": [
    "if __name__ == '__main__':\n",
    "\n",
    "\tcricfile = codecs.open(\"cricketbat.rtf\", 'r', \"utf-8\")\n",
    "\tsent2 = cricfile.read().lower()\n",
    "\tvampirefile = codecs.open(\"vampirebat.rtf\", 'r', 'utf-8')\n",
    "\tsent1 = vampirefile.read().lower()\n",
    "\tsent3 = \"start\"\n",
    "\n",
    "\n",
    "\twhile(sent3 != \"end\"):\n",
    "\n",
    "\t\tsent3 = input(\"Enter Query: \").lower()\n",
    "\n",
    "\t\t\n",
    "\t\tsent31_similarity = 0\n",
    "\t\tsent32_similarity = 0\n",
    "\n",
    "\t\tfiltered_sent1 = simpleFilter(sent1)\n",
    "\t\tfiltered_sent2 = simpleFilter(sent2)\n",
    "\t\tfiltered_sent3 = simpleFilter(sent3)\n",
    "\n",
    "\t\tfor i in filtered_sent3:\n",
    "\n",
    "\t\t\tfor j in filtered_sent1:\n",
    "\t\t\t\tsent31_similarity = sent31_similarity + simlilarityCheck(i,j)\n",
    "\n",
    "\t\t\tfor j in filtered_sent2:\n",
    "\t\t\t\tsent32_similarity = sent32_similarity + simlilarityCheck(i,j)\n",
    "\n",
    "\n",
    "\t\tfiltered_sent1 = filteredSentence(sent1)\n",
    "\t\tfiltered_sent2 = filteredSentence(sent2)\n",
    "\t\tfiltered_sent3 = filteredSentence(sent3)\n",
    "\n",
    "\t\tsent1_count = 0\n",
    "\t\tsent2_count = 0\n",
    "\n",
    "\t\tfor i in filtered_sent3:\n",
    "\n",
    "\t\t\tfor j in filtered_sent1:\n",
    "\n",
    "\t\t\t\tif(i==j):\n",
    "\t\t\t\t\tsent1_count = sent1_count + 1\n",
    "\n",
    "\t\t\tfor j in filtered_sent2:\n",
    "\t\t\t\tif(i==j):\n",
    "\t\t\t\t\tsent2_count = sent2_count + 1\n",
    "\n",
    "\t\tif((sent1_count + sent31_similarity)>(sent2_count+sent32_similarity)):\n",
    "\t\t\tprint(\"Mammal Bat\")\n",
    "\t\telse:\n",
    "\t\t\tprint(\"Cricket Bat\")\n",
    "\n",
    "\t\t#-----------------------------------------------\n",
    "\n",
    "\t\t#sen1: any of various nocturnal flying mammals of the order Chiroptera, having membranous wings that extend from the forelimbs to the hind limbs or tail and anatomical adaptations for echolocation, by which they navigate and hunt prey.\n",
    "\t\t#sen 2: a cricket wooden bat is used for playing criket. it is rectangular in shape and has handle and is made of wood or plastic and is used by cricket players.\n",
    "\tprint(\"\\nTERMINATED\")"
   ]
  },
  {
   "cell_type": "code",
   "execution_count": null,
   "metadata": {},
   "outputs": [],
   "source": []
  }
 ],
 "metadata": {
  "colab": {
   "name": "WSD1.ipynb",
   "provenance": []
  },
  "kernelspec": {
   "display_name": "Python 3",
   "language": "python",
   "name": "python3"
  },
  "language_info": {
   "codemirror_mode": {
    "name": "ipython",
    "version": 3
   },
   "file_extension": ".py",
   "mimetype": "text/x-python",
   "name": "python",
   "nbconvert_exporter": "python",
   "pygments_lexer": "ipython3",
   "version": "3.8.8"
  }
 },
 "nbformat": 4,
 "nbformat_minor": 1
}
