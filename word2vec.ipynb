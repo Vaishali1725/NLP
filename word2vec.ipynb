{
 "cells": [
  {
   "cell_type": "code",
   "execution_count": 1,
   "id": "alpine-ontario",
   "metadata": {},
   "outputs": [],
   "source": [
    "import nltk"
   ]
  },
  {
   "cell_type": "code",
   "execution_count": 2,
   "id": "ecological-camera",
   "metadata": {},
   "outputs": [
    {
     "name": "stderr",
     "output_type": "stream",
     "text": [
      "/Library/Frameworks/Python.framework/Versions/3.9/lib/python3.9/site-packages/gensim/similarities/__init__.py:15: UserWarning: The gensim.similarities.levenshtein submodule is disabled, because the optional Levenshtein package <https://pypi.org/project/python-Levenshtein/> is unavailable. Install Levenhstein (e.g. `pip install python-Levenshtein`) to suppress this warning.\n",
      "  warnings.warn(msg)\n"
     ]
    }
   ],
   "source": [
    "from gensim.models import Word2Vec\n",
    "from nltk.corpus import stopwords\n",
    "\n",
    "import re"
   ]
  },
  {
   "cell_type": "code",
   "execution_count": 5,
   "id": "automated-potter",
   "metadata": {},
   "outputs": [],
   "source": [
    "text = \"\"\"Everything we express (either verbally or in written) carries huge amounts of information. The topic we choose, \n",
    "our tone, our selection of words, everything adds some type of information that can be interpreted and value extracted from it. \n",
    "In theory, we can understand and even predict human behaviour using that information.But there is a problem: one person may \n",
    "generate hundreds or thousands of words in a declaration, each sentence with its corresponding complexity. If you want to scale \n",
    "and analyze several hundreds, thousands or millions of people or declarations in a given geography, then the situation is \n",
    "unmanageable.Data generated from conversations, declarations or even tweets are examples of unstructured data. Unstructured \n",
    "data doesn’t fit neatly into the traditional row and column structure of relational databases, and represent the vast majority \n",
    "of data available in the actual world. It is messy and hard to manipulate. Nevertheless, thanks to the advances in disciplines \n",
    "like machine learning a big revolution is going on regarding this topic. Nowadays it is no longer about trying to interpret a \n",
    "text or speech based on its keywords (the old fashioned mechanical way), but about understanding the meaning behind those words \n",
    "(the cognitive way). This way it is possible to detect figures of speech like irony, or even perform sentiment analysis. It is \n",
    "a discipline that focuses on the interaction between data science and human language, and is scaling to lots of industries. \n",
    "Today NLP is booming thanks to the huge improvements in the access to data and the increase in computational power, which are \n",
    "allowing practitioners to achieve meaningful results in areas like healthcare, media, finance and human resources, among others.\"\"\""
   ]
  },
  {
   "cell_type": "code",
   "execution_count": 6,
   "id": "laden-parallel",
   "metadata": {},
   "outputs": [],
   "source": [
    "text = text.lower()\n",
    "text = re.sub(r'[^a-zA-Z]',' ',paragraph)\n",
    "text = re.sub(r'\\s+',' ',text)"
   ]
  },
  {
   "cell_type": "code",
   "execution_count": 7,
   "id": "legitimate-socket",
   "metadata": {},
   "outputs": [
    {
     "data": {
      "text/plain": [
       "'Everything we express either verbally or in written carries huge amounts of information The topic we choose our tone our selection of words everything adds some type of information that can be interpreted and value extracted from it In theory we can understand and even predict human behaviour using that information But there is a problem one person may generate hundreds or thousands of words in a declaration each sentence with its corresponding complexity If you want to scale and analyze several hundreds thousands or millions of people or declarations in a given geography then the situation is unmanageable Data generated from conversations declarations or even tweets are examples of unstructured data Unstructured data doesn t fit neatly into the traditional row and column structure of relational databases and represent the vast majority of data available in the actual world It is messy and hard to manipulate Nevertheless thanks to the advances in disciplines like machine learning a big revolution is going on regarding this topic Nowadays it is no longer about trying to interpret a text or speech based on its keywords the old fashioned mechanical way but about understanding the meaning behind those words the cognitive way This way it is possible to detect figures of speech like irony or even perform sentiment analysis It is a discipline that focuses on the interaction between data science and human language and is scaling to lots of industries Today NLP is booming thanks to the huge improvements in the access to data and the increase in computational power which are allowing practitioners to achieve meaningful results in areas like healthcare media finance and human resources among others '"
      ]
     },
     "execution_count": 7,
     "metadata": {},
     "output_type": "execute_result"
    }
   ],
   "source": [
    "text"
   ]
  },
  {
   "cell_type": "code",
   "execution_count": 8,
   "id": "selective-plasma",
   "metadata": {},
   "outputs": [],
   "source": [
    "sentences = nltk.sent_tokenize(text)"
   ]
  },
  {
   "cell_type": "code",
   "execution_count": 9,
   "id": "classical-intention",
   "metadata": {},
   "outputs": [],
   "source": [
    "sentences = [nltk.word_tokenize(sentence) for sentence in sentences]"
   ]
  },
  {
   "cell_type": "code",
   "execution_count": 10,
   "id": "marine-suite",
   "metadata": {},
   "outputs": [],
   "source": [
    "for i in range(len(sentences)):\n",
    "    sentences[i] = [word for word in sentences[i] if word not in stopwords.words('english')]"
   ]
  },
  {
   "cell_type": "code",
   "execution_count": 11,
   "id": "cooked-marks",
   "metadata": {},
   "outputs": [
    {
     "data": {
      "text/plain": [
       "[['Everything',\n",
       "  'express',\n",
       "  'either',\n",
       "  'verbally',\n",
       "  'written',\n",
       "  'carries',\n",
       "  'huge',\n",
       "  'amounts',\n",
       "  'information',\n",
       "  'The',\n",
       "  'topic',\n",
       "  'choose',\n",
       "  'tone',\n",
       "  'selection',\n",
       "  'words',\n",
       "  'everything',\n",
       "  'adds',\n",
       "  'type',\n",
       "  'information',\n",
       "  'interpreted',\n",
       "  'value',\n",
       "  'extracted',\n",
       "  'In',\n",
       "  'theory',\n",
       "  'understand',\n",
       "  'even',\n",
       "  'predict',\n",
       "  'human',\n",
       "  'behaviour',\n",
       "  'using',\n",
       "  'information',\n",
       "  'But',\n",
       "  'problem',\n",
       "  'one',\n",
       "  'person',\n",
       "  'may',\n",
       "  'generate',\n",
       "  'hundreds',\n",
       "  'thousands',\n",
       "  'words',\n",
       "  'declaration',\n",
       "  'sentence',\n",
       "  'corresponding',\n",
       "  'complexity',\n",
       "  'If',\n",
       "  'want',\n",
       "  'scale',\n",
       "  'analyze',\n",
       "  'several',\n",
       "  'hundreds',\n",
       "  'thousands',\n",
       "  'millions',\n",
       "  'people',\n",
       "  'declarations',\n",
       "  'given',\n",
       "  'geography',\n",
       "  'situation',\n",
       "  'unmanageable',\n",
       "  'Data',\n",
       "  'generated',\n",
       "  'conversations',\n",
       "  'declarations',\n",
       "  'even',\n",
       "  'tweets',\n",
       "  'examples',\n",
       "  'unstructured',\n",
       "  'data',\n",
       "  'Unstructured',\n",
       "  'data',\n",
       "  'fit',\n",
       "  'neatly',\n",
       "  'traditional',\n",
       "  'row',\n",
       "  'column',\n",
       "  'structure',\n",
       "  'relational',\n",
       "  'databases',\n",
       "  'represent',\n",
       "  'vast',\n",
       "  'majority',\n",
       "  'data',\n",
       "  'available',\n",
       "  'actual',\n",
       "  'world',\n",
       "  'It',\n",
       "  'messy',\n",
       "  'hard',\n",
       "  'manipulate',\n",
       "  'Nevertheless',\n",
       "  'thanks',\n",
       "  'advances',\n",
       "  'disciplines',\n",
       "  'like',\n",
       "  'machine',\n",
       "  'learning',\n",
       "  'big',\n",
       "  'revolution',\n",
       "  'going',\n",
       "  'regarding',\n",
       "  'topic',\n",
       "  'Nowadays',\n",
       "  'longer',\n",
       "  'trying',\n",
       "  'interpret',\n",
       "  'text',\n",
       "  'speech',\n",
       "  'based',\n",
       "  'keywords',\n",
       "  'old',\n",
       "  'fashioned',\n",
       "  'mechanical',\n",
       "  'way',\n",
       "  'understanding',\n",
       "  'meaning',\n",
       "  'behind',\n",
       "  'words',\n",
       "  'cognitive',\n",
       "  'way',\n",
       "  'This',\n",
       "  'way',\n",
       "  'possible',\n",
       "  'detect',\n",
       "  'figures',\n",
       "  'speech',\n",
       "  'like',\n",
       "  'irony',\n",
       "  'even',\n",
       "  'perform',\n",
       "  'sentiment',\n",
       "  'analysis',\n",
       "  'It',\n",
       "  'discipline',\n",
       "  'focuses',\n",
       "  'interaction',\n",
       "  'data',\n",
       "  'science',\n",
       "  'human',\n",
       "  'language',\n",
       "  'scaling',\n",
       "  'lots',\n",
       "  'industries',\n",
       "  'Today',\n",
       "  'NLP',\n",
       "  'booming',\n",
       "  'thanks',\n",
       "  'huge',\n",
       "  'improvements',\n",
       "  'access',\n",
       "  'data',\n",
       "  'increase',\n",
       "  'computational',\n",
       "  'power',\n",
       "  'allowing',\n",
       "  'practitioners',\n",
       "  'achieve',\n",
       "  'meaningful',\n",
       "  'results',\n",
       "  'areas',\n",
       "  'like',\n",
       "  'healthcare',\n",
       "  'media',\n",
       "  'finance',\n",
       "  'human',\n",
       "  'resources',\n",
       "  'among',\n",
       "  'others']]"
      ]
     },
     "execution_count": 11,
     "metadata": {},
     "output_type": "execute_result"
    }
   ],
   "source": [
    "sentences"
   ]
  },
  {
   "cell_type": "code",
   "execution_count": 18,
   "id": "sexual-conversation",
   "metadata": {},
   "outputs": [],
   "source": [
    "model = Word2Vec(sentences, min_count=1, vector_size=10)"
   ]
  },
  {
   "cell_type": "code",
   "execution_count": 19,
   "id": "cosmetic-laptop",
   "metadata": {},
   "outputs": [],
   "source": [
    "words = model.wv.index_to_key"
   ]
  },
  {
   "cell_type": "code",
   "execution_count": 20,
   "id": "double-insert",
   "metadata": {},
   "outputs": [
    {
     "data": {
      "text/plain": [
       "['data',\n",
       " 'human',\n",
       " 'way',\n",
       " 'like',\n",
       " 'words',\n",
       " 'even',\n",
       " 'information',\n",
       " 'topic',\n",
       " 'declarations',\n",
       " 'thanks',\n",
       " 'hundreds',\n",
       " 'speech',\n",
       " 'It',\n",
       " 'huge',\n",
       " 'thousands',\n",
       " 'analyze',\n",
       " 'several',\n",
       " 'scale',\n",
       " 'millions',\n",
       " 'people',\n",
       " 'want',\n",
       " 'If',\n",
       " 'complexity',\n",
       " 'given',\n",
       " 'generated',\n",
       " 'geography',\n",
       " 'situation',\n",
       " 'unmanageable',\n",
       " 'Data',\n",
       " 'conversations',\n",
       " 'tweets',\n",
       " 'examples',\n",
       " 'unstructured',\n",
       " 'Unstructured',\n",
       " 'fit',\n",
       " 'neatly',\n",
       " 'traditional',\n",
       " 'row',\n",
       " 'column',\n",
       " 'corresponding',\n",
       " 'others',\n",
       " 'sentence',\n",
       " 'declaration',\n",
       " 'express',\n",
       " 'either',\n",
       " 'verbally',\n",
       " 'written',\n",
       " 'carries',\n",
       " 'amounts',\n",
       " 'The',\n",
       " 'choose',\n",
       " 'tone',\n",
       " 'selection',\n",
       " 'everything',\n",
       " 'adds',\n",
       " 'type',\n",
       " 'interpreted',\n",
       " 'value',\n",
       " 'extracted',\n",
       " 'In',\n",
       " 'theory',\n",
       " 'understand',\n",
       " 'predict',\n",
       " 'behaviour',\n",
       " 'using',\n",
       " 'But',\n",
       " 'problem',\n",
       " 'one',\n",
       " 'person',\n",
       " 'may',\n",
       " 'generate',\n",
       " 'relational',\n",
       " 'structure',\n",
       " 'vast',\n",
       " 'databases',\n",
       " 'interaction',\n",
       " 'Today',\n",
       " 'industries',\n",
       " 'lots',\n",
       " 'scaling',\n",
       " 'language',\n",
       " 'science',\n",
       " 'focuses',\n",
       " 'represent',\n",
       " 'discipline',\n",
       " 'analysis',\n",
       " 'sentiment',\n",
       " 'perform',\n",
       " 'irony',\n",
       " 'figures',\n",
       " 'NLP',\n",
       " 'booming',\n",
       " 'improvements',\n",
       " 'access',\n",
       " 'increase',\n",
       " 'computational',\n",
       " 'power',\n",
       " 'allowing',\n",
       " 'practitioners',\n",
       " 'achieve',\n",
       " 'meaningful',\n",
       " 'results',\n",
       " 'areas',\n",
       " 'healthcare',\n",
       " 'media',\n",
       " 'finance',\n",
       " 'resources',\n",
       " 'detect',\n",
       " 'possible',\n",
       " 'This',\n",
       " 'revolution',\n",
       " 'among',\n",
       " 'majority',\n",
       " 'available',\n",
       " 'actual',\n",
       " 'world',\n",
       " 'messy',\n",
       " 'hard',\n",
       " 'manipulate',\n",
       " 'Nevertheless',\n",
       " 'advances',\n",
       " 'disciplines',\n",
       " 'machine',\n",
       " 'learning',\n",
       " 'big',\n",
       " 'going',\n",
       " 'cognitive',\n",
       " 'regarding',\n",
       " 'Nowadays',\n",
       " 'longer',\n",
       " 'trying',\n",
       " 'interpret',\n",
       " 'text',\n",
       " 'based',\n",
       " 'keywords',\n",
       " 'old',\n",
       " 'fashioned',\n",
       " 'mechanical',\n",
       " 'understanding',\n",
       " 'meaning',\n",
       " 'behind',\n",
       " 'Everything']"
      ]
     },
     "execution_count": 20,
     "metadata": {},
     "output_type": "execute_result"
    }
   ],
   "source": [
    "words"
   ]
  },
  {
   "cell_type": "code",
   "execution_count": 21,
   "id": "based-chancellor",
   "metadata": {},
   "outputs": [],
   "source": [
    "vector = model.wv['fit']"
   ]
  },
  {
   "cell_type": "code",
   "execution_count": 26,
   "id": "favorite-customs",
   "metadata": {},
   "outputs": [],
   "source": [
    "similar = model.wv.most_similar('sentiment')"
   ]
  },
  {
   "cell_type": "code",
   "execution_count": 27,
   "id": "fleet-linux",
   "metadata": {},
   "outputs": [
    {
     "data": {
      "text/plain": [
       "array([ 0.03449873,  0.05183875,  0.06329303, -0.02803236,  0.07341038,\n",
       "        0.02842638,  0.02907595, -0.02393196, -0.03173684, -0.02415192],\n",
       "      dtype=float32)"
      ]
     },
     "execution_count": 27,
     "metadata": {},
     "output_type": "execute_result"
    }
   ],
   "source": [
    "vector"
   ]
  },
  {
   "cell_type": "code",
   "execution_count": 28,
   "id": "metallic-bulletin",
   "metadata": {},
   "outputs": [
    {
     "data": {
      "text/plain": [
       "[('interaction', 0.6549838781356812),\n",
       " ('declaration', 0.6307033896446228),\n",
       " ('cognitive', 0.6233419179916382),\n",
       " ('world', 0.5948836803436279),\n",
       " ('amounts', 0.5763736963272095),\n",
       " ('perform', 0.5592417120933533),\n",
       " ('vast', 0.550973653793335),\n",
       " ('majority', 0.5421797037124634),\n",
       " ('problem', 0.5295575261116028),\n",
       " ('structure', 0.5265989303588867)]"
      ]
     },
     "execution_count": 28,
     "metadata": {},
     "output_type": "execute_result"
    }
   ],
   "source": [
    "similar"
   ]
  },
  {
   "cell_type": "code",
   "execution_count": null,
   "id": "executive-sharp",
   "metadata": {},
   "outputs": [],
   "source": []
  }
 ],
 "metadata": {
  "kernelspec": {
   "display_name": "Python 3",
   "language": "python",
   "name": "python3"
  },
  "language_info": {
   "codemirror_mode": {
    "name": "ipython",
    "version": 3
   },
   "file_extension": ".py",
   "mimetype": "text/x-python",
   "name": "python",
   "nbconvert_exporter": "python",
   "pygments_lexer": "ipython3",
   "version": "3.9.4"
  }
 },
 "nbformat": 4,
 "nbformat_minor": 5
}
