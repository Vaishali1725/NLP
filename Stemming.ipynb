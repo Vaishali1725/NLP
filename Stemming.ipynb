{
 "cells": [
  {
   "cell_type": "code",
   "execution_count": 1,
   "id": "15f3f483",
   "metadata": {},
   "outputs": [],
   "source": [
    "import nltk"
   ]
  },
  {
   "cell_type": "code",
   "execution_count": 2,
   "id": "7d70b138",
   "metadata": {},
   "outputs": [],
   "source": [
    "from nltk.stem import PorterStemmer\n",
    "from nltk.corpus import stopwords"
   ]
  },
  {
   "cell_type": "code",
   "execution_count": 3,
   "id": "d3ea5697",
   "metadata": {},
   "outputs": [],
   "source": [
    "paragraph = \"\"\"You were there. I was there. We were there. Together in a way that we hadn't been for a long time, In a way that we won't be again.\n",
    "Fluorescent lights, it's warm. Yellow skies, and brown sunflowers. My mind is hazy, no thoughts ... just silence. I'm with you. \n",
    "Your Honey hues, soft skin, warm eyes were enchanting in a way the same way. You laugh, there's no sound. \n",
    "You feel like home, familiar and filled with sweetness. Your lips began to move, why can't I hear? Honey spills from your lips. \n",
    "You've become a hive, overfilling and spilling out the brim.  The Golden liquid pools around my ankles, I bask in it. I want this; I want you. \n",
    "You invite me into your arms, and I run towards you,  the warm thickness envelopes me as I embrace you.  The honey covers us. \"\"\""
   ]
  },
  {
   "cell_type": "code",
   "execution_count": 4,
   "id": "4416b2b6",
   "metadata": {},
   "outputs": [
    {
     "name": "stdout",
     "output_type": "stream",
     "text": [
      "['You were there.', 'I was there.', 'We were there.', \"Together in a way that we hadn't been for a long time, In a way that we won't be again.\", \"Fluorescent lights, it's warm.\", 'Yellow skies, and brown sunflowers.', 'My mind is hazy, no thoughts ... just silence.', \"I'm with you.\", 'Your Honey hues, soft skin, warm eyes were enchanting in a way the same way.', \"You laugh, there's no sound.\", 'You feel like home, familiar and filled with sweetness.', \"Your lips began to move, why can't I hear?\", 'Honey spills from your lips.', \"You've become a hive, overfilling and spilling out the brim.\", 'The Golden liquid pools around my ankles, I bask in it.', 'I want this; I want you.', 'You invite me into your arms, and I run towards you,  the warm thickness envelopes me as I embrace you.', 'The honey covers us.']\n"
     ]
    }
   ],
   "source": [
    "sentences = nltk.sent_tokenize(paragraph)\n",
    "print(sentences)"
   ]
  },
  {
   "cell_type": "code",
   "execution_count": 5,
   "id": "e20164bb",
   "metadata": {},
   "outputs": [],
   "source": [
    "stemmer = PorterStemmer()"
   ]
  },
  {
   "cell_type": "code",
   "execution_count": 6,
   "id": "a0e93bac",
   "metadata": {},
   "outputs": [
    {
     "name": "stdout",
     "output_type": "stream",
     "text": [
      "you .\n",
      "___________________________________________________________\n",
      "i .\n",
      "___________________________________________________________\n",
      "we .\n",
      "___________________________________________________________\n",
      "togeth way n't long time , in way wo n't .\n",
      "___________________________________________________________\n",
      "fluoresc light , 's warm .\n",
      "___________________________________________________________\n",
      "yellow sky , brown sunflow .\n",
      "___________________________________________________________\n",
      "my mind hazi , thought ... silenc .\n",
      "___________________________________________________________\n",
      "i 'm .\n",
      "___________________________________________________________\n",
      "your honey hue , soft skin , warm eye enchant way way .\n",
      "___________________________________________________________\n",
      "you laugh , 's sound .\n",
      "___________________________________________________________\n",
      "you feel like home , familiar fill sweet .\n",
      "___________________________________________________________\n",
      "your lip began move , ca n't i hear ?\n",
      "___________________________________________________________\n",
      "honey spill lip .\n",
      "___________________________________________________________\n",
      "you 've becom hive , overfil spill brim .\n",
      "___________________________________________________________\n",
      "the golden liquid pool around ankl , i bask .\n",
      "___________________________________________________________\n",
      "i want ; i want .\n",
      "___________________________________________________________\n",
      "you invit arm , i run toward , warm thick envelop i embrac .\n",
      "___________________________________________________________\n",
      "the honey cover us .\n",
      "___________________________________________________________\n"
     ]
    }
   ],
   "source": [
    "for i in range(len(sentences)):\n",
    "    words = nltk.word_tokenize(sentences[i])\n",
    "    words = [stemmer.stem(word) for word in words if word not in set(stopwords.words('english'))]\n",
    "    sentences[i] = ' '.join(words)   \n",
    "    print(sentences[i])\n",
    "    print(\"___________________________________________________________\")"
   ]
  },
  {
   "cell_type": "code",
   "execution_count": null,
   "id": "76036993",
   "metadata": {},
   "outputs": [],
   "source": []
  }
 ],
 "metadata": {
  "kernelspec": {
   "display_name": "Python 3",
   "language": "python",
   "name": "python3"
  },
  "language_info": {
   "codemirror_mode": {
    "name": "ipython",
    "version": 3
   },
   "file_extension": ".py",
   "mimetype": "text/x-python",
   "name": "python",
   "nbconvert_exporter": "python",
   "pygments_lexer": "ipython3",
   "version": "3.9.4"
  }
 },
 "nbformat": 4,
 "nbformat_minor": 5
}
