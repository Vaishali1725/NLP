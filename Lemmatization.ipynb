{
 "cells": [
  {
   "cell_type": "code",
   "execution_count": 1,
   "id": "b33a1feb",
   "metadata": {},
   "outputs": [],
   "source": [
    "import nltk\n",
    "from nltk.stem import WordNetLemmatizer\n",
    "from nltk.corpus import stopwords"
   ]
  },
  {
   "cell_type": "code",
   "execution_count": 2,
   "id": "a59762c8",
   "metadata": {},
   "outputs": [],
   "source": [
    "paragraph = \"\"\"You were there. I was there. We were there. Together in a way that we hadn't been for a long time, In a way that we won't be again.\n",
    "Fluorescent lights, it's warm. Yellow skies, and brown sunflowers. My mind is hazy, no thoughts ... just silence. I'm with you. \n",
    "Your Honey hues, soft skin, warm eyes were enchanting in a way the same way. You laugh, there's no sound. \n",
    "You feel like home, familiar and filled with sweetness. Your lips began to move, why can't I hear? Honey spills from your lips. \n",
    "You've become a hive, overfilling and spilling out the brim.  The Golden liquid pools around my ankles, I bask in it. I want this; I want you. \n",
    "You invite me into your arms, and I run towards you,  the warm thickness envelopes me as I embrace you.  The honey covers us. \"\"\""
   ]
  },
  {
   "cell_type": "code",
   "execution_count": 3,
   "id": "c2ffdc80",
   "metadata": {},
   "outputs": [
    {
     "name": "stdout",
     "output_type": "stream",
     "text": [
      "['You were there.', 'I was there.', 'We were there.', \"Together in a way that we hadn't been for a long time, In a way that we won't be again.\", \"Fluorescent lights, it's warm.\", 'Yellow skies, and brown sunflowers.', 'My mind is hazy, no thoughts ... just silence.', \"I'm with you.\", 'Your Honey hues, soft skin, warm eyes were enchanting in a way the same way.', \"You laugh, there's no sound.\", 'You feel like home, familiar and filled with sweetness.', \"Your lips began to move, why can't I hear?\", 'Honey spills from your lips.', \"You've become a hive, overfilling and spilling out the brim.\", 'The Golden liquid pools around my ankles, I bask in it.', 'I want this; I want you.', 'You invite me into your arms, and I run towards you,  the warm thickness envelopes me as I embrace you.', 'The honey covers us.']\n"
     ]
    }
   ],
   "source": [
    "sentences = nltk.sent_tokenize(paragraph)\n",
    "print(sentences)"
   ]
  },
  {
   "cell_type": "code",
   "execution_count": 4,
   "id": "da451c71",
   "metadata": {},
   "outputs": [],
   "source": [
    "lemmatizer = WordNetLemmatizer()"
   ]
  },
  {
   "cell_type": "code",
   "execution_count": 19,
   "id": "0678a849",
   "metadata": {},
   "outputs": [
    {
     "name": "stdout",
     "output_type": "stream",
     "text": [
      "You .\n",
      "___________________________________________________________\n",
      "I .\n",
      "___________________________________________________________\n",
      "We .\n",
      "___________________________________________________________\n",
      "Together way n't long time , In way wo n't .\n",
      "___________________________________________________________\n",
      "Fluorescent light , 's warm .\n",
      "___________________________________________________________\n",
      "Yellow sky , brown sunflower .\n",
      "___________________________________________________________\n",
      "My mind hazy , thought ... silence .\n",
      "___________________________________________________________\n",
      "I 'm .\n",
      "___________________________________________________________\n",
      "Your Honey hue , soft skin , warm eye enchanting way way .\n",
      "___________________________________________________________\n",
      "You laugh , 's sound .\n",
      "___________________________________________________________\n",
      "You feel like home , familiar filled sweetness .\n",
      "___________________________________________________________\n",
      "Your lip began move , ca n't I hear ?\n",
      "___________________________________________________________\n",
      "Honey spill lip .\n",
      "___________________________________________________________\n",
      "You 've become hive , overfilling spilling brim .\n",
      "___________________________________________________________\n",
      "The Golden liquid pool around ankle , I bask .\n",
      "___________________________________________________________\n",
      "I want ; I want .\n",
      "___________________________________________________________\n",
      "You invite arm , I run towards , warm thickness envelope I embrace .\n",
      "___________________________________________________________\n",
      "The honey cover u .\n",
      "___________________________________________________________\n"
     ]
    }
   ],
   "source": [
    "# Lemmatization\n",
    "for i in range(len(sentences)):\n",
    "    words = nltk.word_tokenize(sentences[i])\n",
    "    words = [lemmatizer.lemmatize(word) for word in words if word not in set(stopwords.words('english'))]\n",
    "    sentences[i] = ' '.join(words)\n",
    "    print(sentences[i])\n",
    "    print(\"___________________________________________________________\")"
   ]
  },
  {
   "cell_type": "code",
   "execution_count": null,
   "id": "33c80716",
   "metadata": {},
   "outputs": [],
   "source": []
  }
 ],
 "metadata": {
  "kernelspec": {
   "display_name": "Python 3",
   "language": "python",
   "name": "python3"
  },
  "language_info": {
   "codemirror_mode": {
    "name": "ipython",
    "version": 3
   },
   "file_extension": ".py",
   "mimetype": "text/x-python",
   "name": "python",
   "nbconvert_exporter": "python",
   "pygments_lexer": "ipython3",
   "version": "3.9.4"
  }
 },
 "nbformat": 4,
 "nbformat_minor": 5
}
