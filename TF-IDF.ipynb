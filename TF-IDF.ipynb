{
 "cells": [
  {
   "cell_type": "code",
   "execution_count": 1,
   "id": "50ef3b71",
   "metadata": {},
   "outputs": [],
   "source": [
    "import nltk"
   ]
  },
  {
   "cell_type": "code",
   "execution_count": 2,
   "id": "6624ed86",
   "metadata": {},
   "outputs": [],
   "source": [
    "paragraph = \"\"\" It was the best of times. It was the worst of times. It was the age of wisdom. It was the age of foolishness.\"\"\""
   ]
  },
  {
   "cell_type": "code",
   "execution_count": 3,
   "id": "9f12f7c2",
   "metadata": {},
   "outputs": [],
   "source": [
    "# Cleaning the texts\n",
    "import re\n",
    "from nltk.corpus import stopwords\n",
    "from nltk.stem.porter import PorterStemmer\n",
    "from nltk.stem import WordNetLemmatizer"
   ]
  },
  {
   "cell_type": "code",
   "execution_count": 4,
   "id": "baaf169b",
   "metadata": {},
   "outputs": [
    {
     "name": "stdout",
     "output_type": "stream",
     "text": [
      "[' It was the best of times.', 'It was the worst of times.', 'It was the age of wisdom.', 'It was the age of foolishness.']\n"
     ]
    }
   ],
   "source": [
    "ps = PorterStemmer()\n",
    "wordnet=WordNetLemmatizer()\n",
    "sentences = nltk.sent_tokenize(paragraph)\n",
    "\n",
    "print(sentences)\n",
    "\n",
    "corpus = []"
   ]
  },
  {
   "cell_type": "code",
   "execution_count": 5,
   "id": "480afc6c",
   "metadata": {},
   "outputs": [
    {
     "name": "stdout",
     "output_type": "stream",
     "text": [
      "['best time']\n",
      "_______________________________________________________________________________________\n",
      "['best time', 'worst time']\n",
      "_______________________________________________________________________________________\n",
      "['best time', 'worst time', 'age wisdom']\n",
      "_______________________________________________________________________________________\n",
      "['best time', 'worst time', 'age wisdom', 'age foolishness']\n",
      "_______________________________________________________________________________________\n"
     ]
    }
   ],
   "source": [
    "for i in range(len(sentences)):\n",
    "    review = re.sub('[^a-zA-Z]', ' ', sentences[i])\n",
    "    review = review.lower()\n",
    "    review = review.split()\n",
    "    review = [wordnet.lemmatize(word) for word in review if not word in set(stopwords.words('english'))]\n",
    "    review = ' '.join(review)\n",
    "    corpus.append(review)\n",
    "    \n",
    "    print(corpus)\n",
    "    print(\"_______________________________________________________________________________________\")"
   ]
  },
  {
   "cell_type": "code",
   "execution_count": 8,
   "id": "6952c312",
   "metadata": {},
   "outputs": [],
   "source": [
    "# Creating the TF-IDF model\n",
    "from sklearn.feature_extraction.text import TfidfVectorizer\n",
    "cv = TfidfVectorizer()\n",
    "X = cv.fit_transform(corpus).toarray()"
   ]
  },
  {
   "cell_type": "code",
   "execution_count": 9,
   "id": "39f7c3c6",
   "metadata": {},
   "outputs": [
    {
     "name": "stdout",
     "output_type": "stream",
     "text": [
      "[[0.         0.78528828 0.         0.6191303  0.         0.        ]\n",
      " [0.         0.         0.         0.6191303  0.         0.78528828]\n",
      " [0.6191303  0.         0.         0.         0.78528828 0.        ]\n",
      " [0.6191303  0.         0.78528828 0.         0.         0.        ]]\n"
     ]
    }
   ],
   "source": [
    "print(X)"
   ]
  },
  {
   "cell_type": "code",
   "execution_count": 11,
   "id": "46433d3c",
   "metadata": {},
   "outputs": [
    {
     "name": "stdout",
     "output_type": "stream",
     "text": [
      "0.0\n",
      "0.7852882757103967\n",
      "0.0\n",
      "0.6191302964899972\n",
      "0.0\n",
      "0.0\n"
     ]
    }
   ],
   "source": [
    "#Sentence 1:\n",
    "print(X[0][0])\n",
    "print(X[0][1])\n",
    "print(X[0][2])\n",
    "print(X[0][3])\n",
    "print(X[0][4])\n",
    "print(X[0][5])"
   ]
  },
  {
   "cell_type": "code",
   "execution_count": 12,
   "id": "5551c0c0",
   "metadata": {},
   "outputs": [
    {
     "name": "stdout",
     "output_type": "stream",
     "text": [
      "0.0\n",
      "0.0\n",
      "0.0\n",
      "0.6191302964899972\n",
      "0.0\n",
      "0.7852882757103967\n"
     ]
    }
   ],
   "source": [
    "#Sentence 2:\n",
    "print(X[1][0])\n",
    "print(X[1][1])\n",
    "print(X[1][2])\n",
    "print(X[1][3])\n",
    "print(X[1][4])\n",
    "print(X[1][5])"
   ]
  },
  {
   "cell_type": "code",
   "execution_count": 13,
   "id": "7a8b1433",
   "metadata": {},
   "outputs": [
    {
     "name": "stdout",
     "output_type": "stream",
     "text": [
      "0.6191302964899972\n",
      "0.0\n",
      "0.0\n",
      "0.0\n",
      "0.7852882757103967\n",
      "0.0\n"
     ]
    }
   ],
   "source": [
    "#Sentence 3:\n",
    "print(X[2][0])\n",
    "print(X[2][1])\n",
    "print(X[2][2])\n",
    "print(X[2][3])\n",
    "print(X[2][4])\n",
    "print(X[2][5])"
   ]
  },
  {
   "cell_type": "code",
   "execution_count": 14,
   "id": "14baab68",
   "metadata": {},
   "outputs": [
    {
     "name": "stdout",
     "output_type": "stream",
     "text": [
      "0.6191302964899972\n",
      "0.0\n",
      "0.7852882757103967\n",
      "0.0\n",
      "0.0\n",
      "0.0\n"
     ]
    }
   ],
   "source": [
    "#Sentence 4:\n",
    "print(X[3][0])\n",
    "print(X[3][1])\n",
    "print(X[3][2])\n",
    "print(X[3][3])\n",
    "print(X[3][4])\n",
    "print(X[3][5])"
   ]
  },
  {
   "cell_type": "code",
   "execution_count": null,
   "id": "8b724be0",
   "metadata": {},
   "outputs": [],
   "source": []
  }
 ],
 "metadata": {
  "kernelspec": {
   "display_name": "Python 3",
   "language": "python",
   "name": "python3"
  },
  "language_info": {
   "codemirror_mode": {
    "name": "ipython",
    "version": 3
   },
   "file_extension": ".py",
   "mimetype": "text/x-python",
   "name": "python",
   "nbconvert_exporter": "python",
   "pygments_lexer": "ipython3",
   "version": "3.9.4"
  }
 },
 "nbformat": 4,
 "nbformat_minor": 5
}
