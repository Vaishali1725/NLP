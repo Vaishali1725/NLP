{
 "cells": [
  {
   "cell_type": "code",
   "execution_count": 9,
   "id": "6616b706",
   "metadata": {},
   "outputs": [],
   "source": [
    "import nltk"
   ]
  },
  {
   "cell_type": "code",
   "execution_count": 10,
   "id": "14ad9d18",
   "metadata": {},
   "outputs": [],
   "source": [
    "paragraph = \"\"\"You were there. I was there. We were there. Together in a way that we hadn't been for a long time, In a way that we won't be again.\n",
    "Fluorescent lights, it's warm. Yellow skies, and brown sunflowers. My mind is hazy, no thoughts ... just silence. I'm with you. \n",
    "Your Honey hues, soft skin, warm eyes were enchanting in a way the same way. You laugh, there's no sound. \n",
    "You feel like home, familiar and filled with sweetness. Your lips began to move, why can't I hear? Honey spills from your lips. \n",
    "You've become a hive, overfilling and spilling out the brim.  The Golden liquid pools around my ankles, I bask in it. I want this; I want you. \n",
    "You invite me into your arms, and I run towards you,  the warm thickness envelopes me as I embrace you.  The honey covers us. \"\"\""
   ]
  },
  {
   "cell_type": "code",
   "execution_count": 11,
   "id": "cfe1d98b",
   "metadata": {},
   "outputs": [],
   "source": [
    "# Cleaning the texts\n",
    "import re\n",
    "from nltk.corpus import stopwords\n",
    "from nltk.stem.porter import PorterStemmer\n",
    "from nltk.stem import WordNetLemmatizer"
   ]
  },
  {
   "cell_type": "code",
   "execution_count": 12,
   "id": "9c6eb32d",
   "metadata": {},
   "outputs": [
    {
     "name": "stdout",
     "output_type": "stream",
     "text": [
      "['You were there.', 'I was there.', 'We were there.', \"Together in a way that we hadn't been for a long time, In a way that we won't be again.\", \"Fluorescent lights, it's warm.\", 'Yellow skies, and brown sunflowers.', 'My mind is hazy, no thoughts ... just silence.', \"I'm with you.\", 'Your Honey hues, soft skin, warm eyes were enchanting in a way the same way.', \"You laugh, there's no sound.\", 'You feel like home, familiar and filled with sweetness.', \"Your lips began to move, why can't I hear?\", 'Honey spills from your lips.', \"You've become a hive, overfilling and spilling out the brim.\", 'The Golden liquid pools around my ankles, I bask in it.', 'I want this; I want you.', 'You invite me into your arms, and I run towards you,  the warm thickness envelopes me as I embrace you.', 'The honey covers us.']\n"
     ]
    }
   ],
   "source": [
    "ps = PorterStemmer()\n",
    "wordnet=WordNetLemmatizer()\n",
    "sentences = nltk.sent_tokenize(paragraph)\n",
    "\n",
    "print(sentences)\n",
    "\n",
    "corpus = []"
   ]
  },
  {
   "cell_type": "code",
   "execution_count": 24,
   "id": "01411cd9",
   "metadata": {},
   "outputs": [],
   "source": [
    "for i in range(len(sentences)):\n",
    "    review = re.sub('[^a-zA-Z]', ' ', sentences[i])\n",
    "    review = review.lower()\n",
    "    review = review.split()\n",
    "    review = [ps.stem(word) for word in review if not word in set(stopwords.words('english'))]\n",
    "    review = ' '.join(review)\n",
    "    corpus.append(review)"
   ]
  },
  {
   "cell_type": "code",
   "execution_count": 25,
   "id": "cf713fa6",
   "metadata": {},
   "outputs": [],
   "source": [
    "# Creating the Bag of Words model\n",
    "from sklearn.feature_extraction.text import CountVectorizer\n",
    "cv = CountVectorizer(max_features = 1500)\n",
    "X = cv.fit_transform(corpus).toarray()"
   ]
  },
  {
   "cell_type": "code",
   "execution_count": 26,
   "id": "9df14a5e",
   "metadata": {},
   "outputs": [
    {
     "name": "stdout",
     "output_type": "stream",
     "text": [
      "[[0 0 0 ... 0 0 0]\n",
      " [0 0 0 ... 0 0 0]\n",
      " [0 0 0 ... 0 0 0]\n",
      " ...\n",
      " [0 0 0 ... 0 0 0]\n",
      " [0 1 0 ... 1 0 0]\n",
      " [0 0 0 ... 0 0 0]]\n"
     ]
    }
   ],
   "source": [
    "print(X)"
   ]
  },
  {
   "cell_type": "code",
   "execution_count": null,
   "id": "4abd14da",
   "metadata": {},
   "outputs": [],
   "source": []
  }
 ],
 "metadata": {
  "kernelspec": {
   "display_name": "Python 3",
   "language": "python",
   "name": "python3"
  },
  "language_info": {
   "codemirror_mode": {
    "name": "ipython",
    "version": 3
   },
   "file_extension": ".py",
   "mimetype": "text/x-python",
   "name": "python",
   "nbconvert_exporter": "python",
   "pygments_lexer": "ipython3",
   "version": "3.9.4"
  }
 },
 "nbformat": 4,
 "nbformat_minor": 5
}
