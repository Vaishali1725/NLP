{
 "cells": [
  {
   "cell_type": "code",
   "execution_count": 9,
   "id": "e5ab1559",
   "metadata": {},
   "outputs": [],
   "source": [
    "import nltk\n",
    "import numpy as np"
   ]
  },
  {
   "cell_type": "code",
   "execution_count": 10,
   "id": "aae1ffef",
   "metadata": {},
   "outputs": [],
   "source": [
    "paragraph = \"\"\" Tom love Stephanie. Jerry love Bob. Bob, Stephanie and Tom love Jerry. Tom don't look good during eating. \"\"\""
   ]
  },
  {
   "cell_type": "code",
   "execution_count": 11,
   "id": "9f4df425",
   "metadata": {},
   "outputs": [],
   "source": [
    "# Cleaning the texts\n",
    "import re\n",
    "from nltk.corpus import stopwords\n",
    "from nltk.stem.porter import PorterStemmer\n",
    "from nltk.stem import WordNetLemmatizer"
   ]
  },
  {
   "cell_type": "code",
   "execution_count": 12,
   "id": "22cc0733",
   "metadata": {},
   "outputs": [
    {
     "name": "stdout",
     "output_type": "stream",
     "text": [
      "[' Tom love Stephanie.', 'Jerry love Bob.', 'Bob, Stephanie and Tom love Jerry.', \"Tom don't look good during eating.\"]\n"
     ]
    }
   ],
   "source": [
    "ps = PorterStemmer()\n",
    "wordnet=WordNetLemmatizer()\n",
    "sentences = nltk.sent_tokenize(paragraph)\n",
    "\n",
    "print(sentences)\n",
    "\n",
    "corpus = []"
   ]
  },
  {
   "cell_type": "code",
   "execution_count": 13,
   "id": "1ee0220c",
   "metadata": {},
   "outputs": [
    {
     "name": "stdout",
     "output_type": "stream",
     "text": [
      "['tom love stephanie']\n",
      "_______________________________________________________________________________________\n",
      "['tom love stephanie', 'jerry love bob']\n",
      "_______________________________________________________________________________________\n",
      "['tom love stephanie', 'jerry love bob', 'bob stephanie tom love jerry']\n",
      "_______________________________________________________________________________________\n",
      "['tom love stephanie', 'jerry love bob', 'bob stephanie tom love jerry', 'tom look good eating']\n",
      "_______________________________________________________________________________________\n"
     ]
    }
   ],
   "source": [
    "for i in range(len(sentences)):\n",
    "    review = re.sub('[^a-zA-Z]', ' ', sentences[i])\n",
    "    review = review.lower()\n",
    "    review = review.split()\n",
    "    #review = [ps.stem(word) for word in review if not word in set(stopwords.words('english'))]\n",
    "    review = [wordnet.lemmatize(word) for word in review if not word in set(stopwords.words('english'))]\n",
    "    review = ' '.join(review)\n",
    "    corpus.append(review)\n",
    "    print(corpus)\n",
    "    print(\"_______________________________________________________________________________________\")"
   ]
  },
  {
   "cell_type": "code",
   "execution_count": 14,
   "id": "f09baafd",
   "metadata": {},
   "outputs": [],
   "source": [
    "# Creating the Bag of Words model\n",
    "from sklearn.feature_extraction.text import CountVectorizer\n",
    "cv = CountVectorizer()\n",
    "X = cv.fit_transform(corpus).toarray()"
   ]
  },
  {
   "cell_type": "code",
   "execution_count": 15,
   "id": "ca0b358c",
   "metadata": {},
   "outputs": [
    {
     "name": "stdout",
     "output_type": "stream",
     "text": [
      "[[0 0 0 0 0 1 1 1]\n",
      " [1 0 0 1 0 1 0 0]\n",
      " [1 0 0 1 0 1 1 1]\n",
      " [0 1 1 0 1 0 0 1]]\n"
     ]
    }
   ],
   "source": [
    "print(X)"
   ]
  },
  {
   "cell_type": "code",
   "execution_count": null,
   "id": "4a8bf2de",
   "metadata": {},
   "outputs": [],
   "source": []
  }
 ],
 "metadata": {
  "kernelspec": {
   "display_name": "Python 3",
   "language": "python",
   "name": "python3"
  },
  "language_info": {
   "codemirror_mode": {
    "name": "ipython",
    "version": 3
   },
   "file_extension": ".py",
   "mimetype": "text/x-python",
   "name": "python",
   "nbconvert_exporter": "python",
   "pygments_lexer": "ipython3",
   "version": "3.9.4"
  }
 },
 "nbformat": 4,
 "nbformat_minor": 5
}
